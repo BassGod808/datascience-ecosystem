{
  "metadata": {
    "kernelspec": {
      "name": "python",
      "display_name": "Python (Pyodide)",
      "language": "python"
    },
    "language_info": {
      "codemirror_mode": {
        "name": "python",
        "version": 3
      },
      "file_extension": ".py",
      "mimetype": "text/x-python",
      "name": "python",
      "nbconvert_exporter": "python",
      "pygments_lexer": "ipython3",
      "version": "3.8"
    }
  },
  "nbformat_minor": 5,
  "nbformat": 4,
  "cells": [
    {
      "id": "45971ea3-cc07-4eba-a644-48f09fb75eb4",
      "cell_type": "markdown",
      "source": "# Data Science Tools and Ecosystem",
      "metadata": {}
    },
    {
      "id": "72a5524d-d4ad-4ecf-afbd-3a430e319722",
      "cell_type": "markdown",
      "source": "In this notebook, Data Science Tools and Ecosystem are summarized.",
      "metadata": {}
    },
    {
      "id": "9805c804-d727-4be4-898a-59f6ef6f6603",
      "cell_type": "markdown",
      "source": "Some of the popular languages that Data Scientists use are:\n1. Python  \n2. R  \n3. SQL  \n4. Julia  \n5. Scala",
      "metadata": {}
    },
    {
      "id": "dbf6ab15-0219-4d6a-a46c-0ba0a63da6ae",
      "cell_type": "markdown",
      "source": "Some of the commonly used libraries used by Data Scientists include:\n1. Pandas  \n2. NumPy  \n3. Matplotlib  \n4. Scikit-learn  \n5. TensorFlow",
      "metadata": {}
    },
    {
      "id": "1a36c8c6-3866-45a8-ad94-2364d3893b3e",
      "cell_type": "markdown",
      "source": "| Data Science Tools       |\n|--------------------------|\n| Jupyter Notebook         |\n| RStudio                  |\n| Apache Zeppelin          |",
      "metadata": {}
    },
    {
      "id": "d8e2cad4-bcf0-483b-81ac-7abb378eebb8",
      "cell_type": "markdown",
      "source": "### Below are a few examples of evaluating arithmetic expressions in Python.",
      "metadata": {}
    },
    {
      "id": "a5884062-3e06-44b5-9fb1-feb372036e38",
      "cell_type": "code",
      "source": "# This is a simple arithmetic expression to multiply then add integers\n(3 * 4) + 5",
      "metadata": {
        "trusted": true
      },
      "outputs": [
        {
          "execution_count": 2,
          "output_type": "execute_result",
          "data": {
            "text/plain": "17"
          },
          "metadata": {}
        }
      ],
      "execution_count": 2
    },
    {
      "id": "c5141612-4f7e-44f4-bd10-407974e092aa",
      "cell_type": "code",
      "source": "# This will convert 200 minutes to hours by dividing by 60\n200 / 60",
      "metadata": {
        "trusted": true
      },
      "outputs": [
        {
          "execution_count": 3,
          "output_type": "execute_result",
          "data": {
            "text/plain": "3.3333333333333335"
          },
          "metadata": {}
        }
      ],
      "execution_count": 3
    },
    {
      "id": "08c4380f-e50b-48da-96ac-511db54c6227",
      "cell_type": "markdown",
      "source": "**Objectives:**\n\n- List popular languages for Data Science\n- Identify commonly used libraries in Data Science\n- Create tables and lists in Jupyter Notebooks using Markdown\n- Perform basic arithmetic operations in Python\n- Understand tools commonly used in the data science ecosystem",
      "metadata": {}
    },
    {
      "id": "aa30d37a-55da-4362-904f-b1c9e166e853",
      "cell_type": "markdown",
      "source": "## Author  \nStefan McIntyre",
      "metadata": {}
    }
  ]
}